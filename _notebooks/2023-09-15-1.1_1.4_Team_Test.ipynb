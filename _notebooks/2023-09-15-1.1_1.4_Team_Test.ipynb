{
 "cells": [
  {
   "cell_type": "markdown",
   "metadata": {},
   "source": [
    "---\n",
    "title: 1.1-1.4 Team Test\n",
    "toc: true\n",
    "layout: default\n",
    "description: Pair Showcase!\n",
    "courses: { compsci: {week: 5, categories: [3.A, 5.B]} }\n",
    "categories: [C3.0, C3.1, C4.1]\n",
    "type: hacks\n",
    "---"
   ]
  },
  {
   "cell_type": "code",
   "execution_count": 1,
   "metadata": {},
   "outputs": [
    {
     "name": "stdout",
     "output_type": "stream",
     "text": [
      "Hello, eunseolim123 running /bin/python\n",
      "You will be asked 8 questions.\n",
      "Question: Are you ready to take a test?\n",
      "Question: Name the Python output command mentioned in this lesson?\n",
      "print is correct!\n",
      "Question: If you see many lines of code in order, what would College Board call it?\n",
      "baz is correct!\n",
      "Question: Describe a keyword used in Python to define a function?\n",
      "def is correct!\n",
      "Question: What is grouping a sequence of commands, often used repeatedly, called?\n",
      "procedural abstraction is correct!\n",
      "Question: What command activates the Jupyter Notebook input box, which obtains input from the user?\n",
      "input is correct!\n",
      "Question: What command is used to include other functions that were previously developed?\n",
      "import is correct!\n",
      "Question: What command is used to evaluate correct or incorrect response in this example?\n",
      "if is correct!\n",
      "Question: Each 'if' command contains an '_________' to determine a true or false condition?\n",
      "expression is correct!\n",
      "eunseolim123 you scored 8/8\n",
      "eunseolim123 you scored 100.0%\n",
      "Average score among all users: 8.0\n"
     ]
    }
   ],
   "source": [
    "import getpass\n",
    "import sys\n",
    "# Function to ask a question and get a response\n",
    "def question_with_response(prompt):\n",
    "    print(\"Question: \" + prompt)\n",
    "    msg = input()\n",
    "    return msg\n",
    "# List of quiz questions and correct answers\n",
    "questioner = [\n",
    "    \"Name the Python output command mentioned in this lesson?\",\n",
    "    \"If you see many lines of code in order, what would College Board call it?\",\n",
    "    \"Describe a keyword used in Python to define a function?\",\n",
    "    \"What is grouping a sequence of commands, often used repeatedly, called?\",\n",
    "    \"What command activates the Jupyter Notebook input box, which obtains input from the user?\",\n",
    "    \"What command is used to include other functions that were previously developed?\",\n",
    "    \"What command is used to evaluate correct or incorrect response in this example?\",\n",
    "    \"Each 'if' command contains an '_________' to determine a true or false condition?\"\n",
    "]\n",
    "answerer = [\"print\", \"baz\", \"def\", \"procedural abstraction\", \"input\", \"import\", \"if\", \"expression\"]\n",
    "# Dictionary to store quiz scores\n",
    "scores = {}\n",
    "questions = len(questioner)\n",
    "correct = 0\n",
    "print('Hello, ' + getpass.getuser() + \" running \" + sys.executable)\n",
    "print(\"You will be asked \" + str(questions) + \" questions.\")\n",
    "question_with_response(\"Are you ready to take a test?\")\n",
    "# Loop through quiz questions\n",
    "for i in range(questions):\n",
    "    rsp = question_with_response(str(questioner[i]))\n",
    "    if rsp == answerer[i]:\n",
    "        print(rsp + \" is correct!\")\n",
    "        correct += 1\n",
    "    else:\n",
    "        print(rsp + \" is incorrect!\")\n",
    "# Store the user's score in the scores dictionary\n",
    "user_name = getpass.getuser()\n",
    "scores[user_name] = correct\n",
    "# Calculate and display the average score\n",
    "total_score = sum(scores.values())\n",
    "average_score = total_score / len(scores)\n",
    "print(user_name + \" you scored \" + str(correct) + \"/\" + str(questions))\n",
    "print(user_name + \" you scored \" + str((correct / questions) * 100) + \"%\")\n",
    "print(\"Average score among all users: \" + str(average_score))"
   ]
  }
 ],
 "metadata": {
  "kernelspec": {
   "display_name": "Python 3",
   "language": "python",
   "name": "python3"
  },
  "language_info": {
   "codemirror_mode": {
    "name": "ipython",
    "version": 3
   },
   "file_extension": ".py",
   "mimetype": "text/x-python",
   "name": "python",
   "nbconvert_exporter": "python",
   "pygments_lexer": "ipython3",
   "version": "3.10.12"
  },
  "orig_nbformat": 4
 },
 "nbformat": 4,
 "nbformat_minor": 2
}
