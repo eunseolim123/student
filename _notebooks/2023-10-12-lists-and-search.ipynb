{
 "cells": [
  {
   "cell_type": "markdown",
   "id": "a2cc529f",
   "metadata": {},
   "source": [
    "---\n",
    "layout: default\n",
    "title: List and Operations\n",
    "description: A team teach on lists and operations by team influencer innovators (unit 3.6 and 3.7 CSP)\n",
    "toc: true\n",
    "comments: true\n",
    "categories: [5.A, C4.1]\n",
    "courses: { compsci {week: 9} }\n",
    "type: hacks\n",
    "---"
   ]
  },
  {
   "cell_type": "markdown",
   "id": "c704695f",
   "metadata": {},
   "source": [
    "# Made by: Ryan, Daniel, Saaras, Will, and Andrew"
   ]
  },
  {
   "cell_type": "markdown",
   "id": "e3260b38",
   "metadata": {},
   "source": [
    "## Python lists Operations"
   ]
  },
  {
   "cell_type": "markdown",
   "id": "2d948d76",
   "metadata": {},
   "source": [
    "### Append function\n",
    "# From the Data Abstractions Unit we Learned about lists and how they can store multiple variables \n",
    "# Today we're going to show you how to add items to lists utilizing the append option"
   ]
  },
  {
   "cell_type": "code",
   "execution_count": 127,
   "id": "5e8e0948",
   "metadata": {},
   "outputs": [
    {
     "name": "stdout",
     "output_type": "stream",
     "text": [
      "['hi', 'no']\n"
     ]
    }
   ],
   "source": [
    "lst = [\"hi\"]\n",
    "lst.append(\"no\")\n",
    "print(lst)"
   ]
  },
  {
   "cell_type": "markdown",
   "id": "4dacd1fd",
   "metadata": {},
   "source": [
    "### Insert function\n",
    "- The insert function allows you to append items to different lists at a specific location.\n",
    "- Let's first understand how it may work through pseudocode\n",
    "\n",
    "#### Example 1\n",
    "INSERT alist, pos, value \n",
    "INSERT alist, 1, \"hi\" \n",
    "- Here the alist represents your list you want to append an item to\n",
    "- The position is where on the list the item will be generated in respect to the current list\n",
    "- Finally, the value is the item you're adding to your list. \n",
    "- So in the code provided below, in position 1 you insert the item \"hi\" into alist\n",
    "\n",
    "### Your turn!!!!\n",
    "- Turn this pseudocode into python\n",
    "- How may we want to implement this on python? Think back to the data abstraction unit. \n",
    "- ( Hint: Think about the differences between pseudocode and python )"
   ]
  },
  {
   "cell_type": "code",
   "execution_count": 3,
   "id": "861859c5",
   "metadata": {},
   "outputs": [
    {
     "name": "stdout",
     "output_type": "stream",
     "text": [
      "['hi', 'yes', 'no']\n"
     ]
    }
   ],
   "source": [
    "lst = [\"hi\"]\n",
    "lst.append(\"no\")\n",
    "#[\"hi\",\"no\"]\n",
    "lst.insert(1, \"yes\")\n",
    "print(lst)"
   ]
  },
  {
   "cell_type": "code",
   "execution_count": 5,
   "id": "1c6c3810",
   "metadata": {},
   "outputs": [
    {
     "name": "stdout",
     "output_type": "stream",
     "text": [
      "['hi', 'yes', 'yes', 'no', 'maybe']\n"
     ]
    }
   ],
   "source": [
    "# ANSWER: \n",
    "# Inserting items to a specific list, remember python is 0 based on the items!!\n",
    "lst.insert(5, \"maybe\")\n",
    "print(lst)"
   ]
  },
  {
   "cell_type": "markdown",
   "id": "ed4f8f87",
   "metadata": {},
   "source": [
    "### Remove function\n",
    "- The remove functions allows you to remove specific items at a specific position on the list\n",
    "\n",
    "#### Pseudocode example\n",
    "- REMOVE aList, pos\n",
    "\n"
   ]
  },
  {
   "cell_type": "code",
   "execution_count": 135,
   "id": "d29c6491",
   "metadata": {},
   "outputs": [
    {
     "name": "stdout",
     "output_type": "stream",
     "text": [
      "['hi', 'no', ' maybe', ' yes']\n",
      "hi\n"
     ]
    }
   ],
   "source": [
    "lst.remove(lst[0])\n",
    "print(lst)\n",
    "## You can also access the list by the position, this is called list indexing\n",
    "print(lst[0])"
   ]
  },
  {
   "cell_type": "markdown",
   "id": "82b37677",
   "metadata": {},
   "source": [
    "### Let's do some Collegeboard exercises\n",
    "- In the following list:\n",
    "  - nums = [65, 89, 92, 35, 84, 78, 28, 75]\n",
    "- Figure out what the minimum number in the list, WITHOUT using the other methods and premade functions.\n",
    "\n",
    "### Second question:\n",
    "- Let's say we have a list called \"animals\" from a survey that stores whether or not they prefer \"cats\" or \"dogs\" as strings in this list.\n",
    "- Transverse this list and tell me the total amount cats and dogs in the list\n"
   ]
  },
  {
   "cell_type": "code",
   "execution_count": 6,
   "id": "72025150",
   "metadata": {},
   "outputs": [
    {
     "name": "stdout",
     "output_type": "stream",
     "text": [
      "28\n",
      "this number is the lowest number in the nums list\n"
     ]
    }
   ],
   "source": [
    "nums = [65, 89, 92, 35, 84, 78, 28, 75]\n",
    "print(nums[6])\n",
    "print(\"this number is the lowest number in the nums list\")\n",
    "## Your code here"
   ]
  },
  {
   "cell_type": "code",
   "execution_count": 138,
   "id": "4e9f4651",
   "metadata": {},
   "outputs": [
    {
     "name": "stdout",
     "output_type": "stream",
     "text": [
      "['cats']\n",
      "only one person works at this petshop and she likes cats.\n"
     ]
    }
   ],
   "source": [
    "animals = [\"cats\", \"dogs\"]\n",
    "\n",
    "animals.remove(\"dogs\")\n",
    "print(animals)\n",
    "print(\"only one person works at this petshop and she likes cats.\")"
   ]
  },
  {
   "cell_type": "markdown",
   "id": "bb09ae30",
   "metadata": {},
   "source": [
    "### ITS BINARY SEARCH TIME\n",
    "- By the end of this you should be able to know what binary search is\n",
    "- What the time complexity of binary search is\n",
    "- How to derive the time complexity for binary search"
   ]
  },
  {
   "cell_type": "markdown",
   "id": "f8476c40",
   "metadata": {},
   "source": [
    "### HOW DOES BINARY SEARCH WORK\n",
    "- pay attention to the demonstration in the front\n",
    "- volunteers will be called up\n",
    "- candy if you participate"
   ]
  },
  {
   "cell_type": "markdown",
   "id": "58a5568c",
   "metadata": {},
   "source": [
    "Binary search is like a guessing game where you halve your options at each step. Imagine you're finding a name in a phone book:\n",
    "\n",
    "1. **First Step:** You open the book in the middle.\n",
    "2. **Second Step:** Is the name before or after the middle? You eliminate half of the remaining names.\n",
    "3. **Repeat:** Keep dividing until you find the name or run out of names to check.\n",
    "4. **MAKE SURE YOUR LIST IS SORTED** Binary search will not work if the list isn't sorted\n",
    "\n",
    "Because you're halving the options each time, it's super quick. If you have \\(n\\) names, it takes at most \\( \\log_2(n) \\) steps to find a name. This efficiency, where the time it takes doesn't increase much as the number of names in the phone book grows, is what makes binary search awesome! Binary search is also more optimal for searcihng compared to a linear search for anything that doesnt include small lists..\n"
   ]
  },
  {
   "cell_type": "markdown",
   "id": "aab4dcf5",
   "metadata": {},
   "source": [
    "### Demo Being shown above\n",
    "The sorted list we have currently, has integers [1, 3, 4, 5, 13, 20], we are currently trying to find the index of the the integer 1 within the list\n",
    "\n",
    "How it works is we start at element 0 for our left position and element 5 for our rightwards position\n",
    "\n",
    "Our middle position becaomes 5 because ((5+0)//2)=3 so element 3\n",
    "\n",
    "Our element 3 within the list gives us the integer 5\n",
    "\n",
    "We then realize that oh 5 is greater then 3 so we have to move leftwards\n",
    "\n",
    "Then to make the algorithm more efficient we move the r backwards 1 beacuse we have already checked at this point\n",
    "\n",
    "So now we can reduce the list to [1, 3, 4]\n",
    "\n",
    "Now we can repeat the same steps as before and find the middle of this list which is 3\n",
    "\n",
    "We realize thats not equivalent to the integer 1, and our value is still too great\n",
    "\n",
    "So we move the middle leftwards 1 positioon\n",
    "\n",
    "AND BAM THATS HOW YOU CAN DO BINARY SEARCH\n",
    "\n",
    "\n"
   ]
  },
  {
   "cell_type": "code",
   "execution_count": 108,
   "id": "df0e0b53",
   "metadata": {},
   "outputs": [
    {
     "name": "stdout",
     "output_type": "stream",
     "text": [
      "1\n"
     ]
    }
   ],
   "source": [
    "#example of binary search in python has a time complexity of O(n)\n",
    "def binarySearch(arr, x):\n",
    "    l= 0 #our minimum element\n",
    "    r=len(arr) - 1 # our maximum element\n",
    "    while l <= r:\n",
    "        mid = l + (r - l) // 2 \n",
    "        if arr[mid] == x:\n",
    "            return mid\n",
    "        elif arr[mid] < x:\n",
    "            l = mid + 1\n",
    "        else:\n",
    "            r = mid - 1\n",
    "    return -1\n",
    "\n",
    "\n",
    "sorted_list = [2, 5, 8, 12, 16]\n",
    "target = 3\n",
    "result = binarySearch(sorted_list, 5)\n",
    "print(result)\n"
   ]
  },
  {
   "cell_type": "code",
   "execution_count": 109,
   "id": "1b892fe0",
   "metadata": {},
   "outputs": [
    {
     "name": "stdout",
     "output_type": "stream",
     "text": [
      "1\n"
     ]
    }
   ],
   "source": [
    "#Linear Search Approach in O(n)\n",
    "def linear_search(target, sorted_list):\n",
    "    for o in range(len(sorted_list)):\n",
    "        if sorted_list[o]==target:\n",
    "            return(o)\n",
    "#Does not have to be a sorted list for the sake of comparison I just made it sorted\n",
    "sorted_list = [1, 3, 5, 7, 9, 11, 13, 15]\n",
    "target = 3\n",
    "result = linear_search(target, sorted_list)\n",
    "print(result)\n"
   ]
  },
  {
   "cell_type": "markdown",
   "id": "97b3f083",
   "metadata": {},
   "source": [
    "Using linear search make a list with elements [\"eggs\", \"milk\", \"butter\", \"cake\"]\n",
    "Then randomize an element 1-4 within that list and find the index of it via linear search"
   ]
  },
  {
   "cell_type": "code",
   "execution_count": 16,
   "id": "d6617031",
   "metadata": {},
   "outputs": [
    {
     "name": "stdout",
     "output_type": "stream",
     "text": [
      "Random number: 0\n",
      "Random item: eggs\n"
     ]
    }
   ],
   "source": [
    "#code here\n",
    "import random\n",
    "def linear_search(target, food):\n",
    "    for i in range(len(food)):\n",
    "        if food[i] == target:\n",
    "            return i, food[i]\n",
    "\n",
    "food = [\"eggs\", \"milk\", \"butter\", \"cake\"]\n",
    "index = random.randint(0, 3)\n",
    "target = food[index]\n",
    "index_found, item_found = linear_search(target, food)\n",
    "\n",
    "print(f\"Random number: {index}\")\n",
    "print(f\"Random item: {item_found}\")"
   ]
  },
  {
   "cell_type": "markdown",
   "id": "abd6924e",
   "metadata": {},
   "source": [
    "How big O Notation works in the context works in the case of search methods.\n",
    "\n",
    "Lets first explain for linear search, because linear search only requires a iterative approach all we use is O(n), this is due\n",
    "to the loop infinitely going until it finds the element and then after that it doesnt do anything.\n",
    "\n",
    "However binary search is special in this sense because you don't actually have to go through an entire loop how you can picture this is by imagining a list with 1000000 integer values in it and my target value is 59223, binary search makes it so that you just divide the list by 2 until you find the element. It's a lot faster then the iterative approach, where I keep going until I get to 59223 what this does is it allows me to speed up the time and memory usage I take. because I keep dividing the list by 2 allowing for me to form a logarithm because its just repetitive multiplication of 1/2 and then that makes it so that O(log(n)) becomes the time complexity for the Binary search algorithm.\n",
    "\n",
    "\n"
   ]
  },
  {
   "cell_type": "markdown",
   "id": "b849fad1",
   "metadata": {},
   "source": [
    "HW TIME!!!!!!!!!!!!!!!!!!\n",
    "We want you guys to make a guessing game below, where utilizing binary search you can within a list of 100 sorted elements find, a value that your code will randomize using random.randint(). We want you to also make it so every iteration output the number is higher up or lower until you actually get to the answer. We also want number of tries it took to guess the number. Points will be awarded for customizations and potential changes.\n",
    "\n",
    "Extra credit (for above 95%): Send a screenshot on me to slack showing you can do this: https://codeforces.com/contest/1201/problem/C"
   ]
  },
  {
   "cell_type": "code",
   "execution_count": 28,
   "id": "34575e73",
   "metadata": {},
   "outputs": [
    {
     "name": "stdout",
     "output_type": "stream",
     "text": [
      "This is a guessing game that utilizes binary search.\n",
      "The computer will pick a random target number between 1-100.\n",
      "Target number: 84\n",
      "Guess #1: The number guessed was 50. The target number is higher.\n",
      "Guess #2: The number guessed was 75. The target number is higher.\n",
      "Guess #3: The number guessed was 88. The target number is lower.\n",
      "Guess #4: The number guessed was 81. The target number is higher.\n",
      "Nice! The target number 84 was found at index 83 after 5 tries.\n",
      "Would you like to play again?\n"
     ]
    },
    {
     "name": "stdout",
     "output_type": "stream",
     "text": [
      "You have answered yes.\n",
      "Target number: 19\n",
      "Guess #1: The number guessed was 50. The target number is lower.\n",
      "Guess #2: The number guessed was 25. The target number is lower.\n",
      "Guess #3: The number guessed was 12. The target number is higher.\n",
      "Guess #4: The number guessed was 18. The target number is higher.\n",
      "Guess #5: The number guessed was 21. The target number is lower.\n",
      "Nice! The target number 19 was found at index 18 after 6 tries.\n",
      "Would you like to play again?\n",
      "You have answered no.\n",
      "\n",
      "Leaderboard:\n",
      "1. Target: 84, Tries: 5\n",
      "2. Target: 19, Tries: 6\n"
     ]
    }
   ],
   "source": [
    "#Code in here\n",
    "import random\n",
    "\n",
    "# Initialize an empty leaderboard\n",
    "leaderboard = []\n",
    "\n",
    "# Inform the user of the game and how it works\n",
    "print(f\"This is a guessing game that utilizes binary search.\")\n",
    "print(f\"The computer will pick a random target number between 1-100.\")\n",
    "\n",
    "def binary_search(target, sorted_list):\n",
    "    low = 0\n",
    "    high = len(sorted_list) - 1\n",
    "    tries = 0\n",
    "\n",
    "    while low <= high:\n",
    "        mid = (low + high) // 2\n",
    "        guess = sorted_list[mid]\n",
    "        tries += 1\n",
    "\n",
    "        if guess == target:\n",
    "            return mid, tries\n",
    "        elif guess < target:\n",
    "            low = mid + 1\n",
    "            print(f\"Guess #{tries}: The number guessed was {guess}. The target number is higher.\")\n",
    "        else:\n",
    "            high = mid - 1\n",
    "            print(f\"Guess #{tries}: The number guessed was {guess}. The target number is lower.\")\n",
    "\n",
    "    return None, tries\n",
    "\n",
    "def play_game():\n",
    "    # Generate a random target number\n",
    "    target = random.randint(1, 100)\n",
    "\n",
    "    # Generate a sorted list of 100 elements\n",
    "    sorted_list = list(range(1, 101))\n",
    "\n",
    "    print(f\"Target number: {target}\")\n",
    "\n",
    "    # Perform binary search\n",
    "    index_found, num_tries = binary_search(target, sorted_list)\n",
    "\n",
    "    if index_found is not None:\n",
    "        print(f\"Nice! The target number {target} was found at index {index_found} after {num_tries} tries.\")\n",
    "        # Add the score to the leaderboard\n",
    "        leaderboard.append({\"target\": target, \"tries\": num_tries})\n",
    "    else:\n",
    "        print(f\"Target number {target} not found.\")\n",
    "\n",
    "if __name__ == \"__main__\":\n",
    "    play_game()\n",
    "\n",
    "    # Ask the user if they would like to play again\n",
    "    while True:\n",
    "        print(f\"Would you like to play again?\")\n",
    "        play_again = input(\"Do you want to play again? (yes/no): \")\n",
    "        print(f\"You have answered {play_again}.\")\n",
    "        if play_again.lower() != 'yes':\n",
    "            break\n",
    "        play_game()\n",
    "\n",
    "    # Display the leaderboard\n",
    "    print(\"\\nLeaderboard:\")\n",
    "    leaderboard.sort(key=lambda x: x[\"tries\"])  # Sort by number of tries\n",
    "    for i, entry in enumerate(leaderboard, start=1):\n",
    "        print(f\"{i}. Target: {entry['target']}, Tries: {entry['tries']}\")"
   ]
  },
  {
   "cell_type": "markdown",
   "id": "fb348a05",
   "metadata": {},
   "source": [
    "HW Part 2: This time instead of utilizing binary search to do it I want you to use linear search to get to the same value and I want you to output the number of iterations it took to get there. Aswell as a congrats message upon getting there points will be awarded upon creativity and completion."
   ]
  },
  {
   "cell_type": "code",
   "execution_count": 73,
   "id": "8ba0fe5a",
   "metadata": {},
   "outputs": [
    {
     "name": "stdout",
     "output_type": "stream",
     "text": [
      "This is a guessing game that utilizes linear search.\n",
      "The computer will pick a random target number between 1-100.\n",
      "Target number: 4\n",
      "Guess #1: The number guessed was 1. The target number is higher.\n",
      "Guess #2: The number guessed was 2. The target number is higher.\n",
      "Guess #3: The number guessed was 3. The target number is higher.\n",
      "Congratulations! The target number 4 was found at index 3 after 4 tries.\n",
      "Would you like to play again?\n",
      "You have answered yes.\n",
      "Target number: 91\n",
      "Guess #1: The number guessed was 1. The target number is higher.\n",
      "Guess #2: The number guessed was 2. The target number is higher.\n",
      "Guess #3: The number guessed was 3. The target number is higher.\n",
      "Guess #4: The number guessed was 4. The target number is higher.\n",
      "Guess #5: The number guessed was 5. The target number is higher.\n",
      "Guess #6: The number guessed was 6. The target number is higher.\n",
      "Guess #7: The number guessed was 7. The target number is higher.\n",
      "Guess #8: The number guessed was 8. The target number is higher.\n",
      "Guess #9: The number guessed was 9. The target number is higher.\n",
      "Guess #10: The number guessed was 10. The target number is higher.\n",
      "Guess #11: The number guessed was 11. The target number is higher.\n",
      "Guess #12: The number guessed was 12. The target number is higher.\n",
      "Guess #13: The number guessed was 13. The target number is higher.\n",
      "Guess #14: The number guessed was 14. The target number is higher.\n",
      "Guess #15: The number guessed was 15. The target number is higher.\n",
      "Guess #16: The number guessed was 16. The target number is higher.\n",
      "Guess #17: The number guessed was 17. The target number is higher.\n",
      "Guess #18: The number guessed was 18. The target number is higher.\n",
      "Guess #19: The number guessed was 19. The target number is higher.\n",
      "Guess #20: The number guessed was 20. The target number is higher.\n",
      "Guess #21: The number guessed was 21. The target number is higher.\n",
      "Guess #22: The number guessed was 22. The target number is higher.\n",
      "Guess #23: The number guessed was 23. The target number is higher.\n",
      "Guess #24: The number guessed was 24. The target number is higher.\n",
      "Guess #25: The number guessed was 25. The target number is higher.\n",
      "Guess #26: The number guessed was 26. The target number is higher.\n",
      "Guess #27: The number guessed was 27. The target number is higher.\n",
      "Guess #28: The number guessed was 28. The target number is higher.\n",
      "Guess #29: The number guessed was 29. The target number is higher.\n",
      "Guess #30: The number guessed was 30. The target number is higher.\n",
      "Guess #31: The number guessed was 31. The target number is higher.\n",
      "Guess #32: The number guessed was 32. The target number is higher.\n",
      "Guess #33: The number guessed was 33. The target number is higher.\n",
      "Guess #34: The number guessed was 34. The target number is higher.\n",
      "Guess #35: The number guessed was 35. The target number is higher.\n",
      "Guess #36: The number guessed was 36. The target number is higher.\n",
      "Guess #37: The number guessed was 37. The target number is higher.\n",
      "Guess #38: The number guessed was 38. The target number is higher.\n",
      "Guess #39: The number guessed was 39. The target number is higher.\n",
      "Guess #40: The number guessed was 40. The target number is higher.\n",
      "Guess #41: The number guessed was 41. The target number is higher.\n",
      "Guess #42: The number guessed was 42. The target number is higher.\n",
      "Guess #43: The number guessed was 43. The target number is higher.\n",
      "Guess #44: The number guessed was 44. The target number is higher.\n",
      "Guess #45: The number guessed was 45. The target number is higher.\n",
      "Guess #46: The number guessed was 46. The target number is higher.\n",
      "Guess #47: The number guessed was 47. The target number is higher.\n",
      "Guess #48: The number guessed was 48. The target number is higher.\n",
      "Guess #49: The number guessed was 49. The target number is higher.\n",
      "Guess #50: The number guessed was 50. The target number is higher.\n",
      "Guess #51: The number guessed was 51. The target number is higher.\n",
      "Guess #52: The number guessed was 52. The target number is higher.\n",
      "Guess #53: The number guessed was 53. The target number is higher.\n",
      "Guess #54: The number guessed was 54. The target number is higher.\n",
      "Guess #55: The number guessed was 55. The target number is higher.\n",
      "Guess #56: The number guessed was 56. The target number is higher.\n",
      "Guess #57: The number guessed was 57. The target number is higher.\n",
      "Guess #58: The number guessed was 58. The target number is higher.\n",
      "Guess #59: The number guessed was 59. The target number is higher.\n",
      "Guess #60: The number guessed was 60. The target number is higher.\n",
      "Guess #61: The number guessed was 61. The target number is higher.\n",
      "Guess #62: The number guessed was 62. The target number is higher.\n",
      "Guess #63: The number guessed was 63. The target number is higher.\n",
      "Guess #64: The number guessed was 64. The target number is higher.\n",
      "Guess #65: The number guessed was 65. The target number is higher.\n",
      "Guess #66: The number guessed was 66. The target number is higher.\n",
      "Guess #67: The number guessed was 67. The target number is higher.\n",
      "Guess #68: The number guessed was 68. The target number is higher.\n",
      "Guess #69: The number guessed was 69. The target number is higher.\n",
      "Guess #70: The number guessed was 70. The target number is higher.\n",
      "Guess #71: The number guessed was 71. The target number is higher.\n",
      "Guess #72: The number guessed was 72. The target number is higher.\n",
      "Guess #73: The number guessed was 73. The target number is higher.\n",
      "Guess #74: The number guessed was 74. The target number is higher.\n",
      "Guess #75: The number guessed was 75. The target number is higher.\n",
      "Guess #76: The number guessed was 76. The target number is higher.\n",
      "Guess #77: The number guessed was 77. The target number is higher.\n",
      "Guess #78: The number guessed was 78. The target number is higher.\n",
      "Guess #79: The number guessed was 79. The target number is higher.\n",
      "Guess #80: The number guessed was 80. The target number is higher.\n",
      "Guess #81: The number guessed was 81. The target number is higher.\n",
      "Guess #82: The number guessed was 82. The target number is higher.\n",
      "Guess #83: The number guessed was 83. The target number is higher.\n",
      "Guess #84: The number guessed was 84. The target number is higher.\n",
      "Guess #85: The number guessed was 85. The target number is higher.\n",
      "Guess #86: The number guessed was 86. The target number is higher.\n",
      "Guess #87: The number guessed was 87. The target number is higher.\n",
      "Guess #88: The number guessed was 88. The target number is higher.\n",
      "Guess #89: The number guessed was 89. The target number is higher.\n",
      "Guess #90: The number guessed was 90. The target number is higher.\n",
      "Congratulations! The target number 91 was found at index 90 after 91 tries.\n",
      "Would you like to play again?\n",
      "You have answered no.\n",
      "\n",
      "Leaderboard:\n",
      "1. Target: 4, Tries: 4\n",
      "2. Target: 91, Tries: 91\n"
     ]
    }
   ],
   "source": [
    "#Code in here\n",
    "import random\n",
    "\n",
    "# Initialize an empty leaderboard\n",
    "leaderboard = []\n",
    "\n",
    "# Inform the user of the game and how it works\n",
    "print(f\"This is a guessing game that utilizes linear search.\")\n",
    "print(f\"The computer will pick a random target number between 1-100.\")\n",
    "\n",
    "def linear_search(target, sorted_list):\n",
    "    tries = 0\n",
    "\n",
    "    for index, number in enumerate(sorted_list):\n",
    "        tries += 1\n",
    "\n",
    "        if number == target:\n",
    "            return index, tries\n",
    "        elif number < target:\n",
    "            print(f\"Guess #{tries}: The number guessed was {number}. The target number is higher.\")\n",
    "        else:\n",
    "            print(f\"Guess #{tries}: The number guessed was {number}. The target number is lower.\")\n",
    "\n",
    "    return None, tries\n",
    "\n",
    "def play_game():\n",
    "    # Generate a random target number\n",
    "    target = random.randint(1, 100)\n",
    "\n",
    "    # Generate a sorted list of 100 elements\n",
    "    sorted_list = list(range(1, 101))\n",
    "\n",
    "    print(f\"Target number: {target}\")\n",
    "\n",
    "    # Perform linear search\n",
    "    index_found, num_tries = linear_search(target, sorted_list)\n",
    "\n",
    "    if index_found is not None:\n",
    "        print(f\"Congratulations! The target number {target} was found at index {index_found} after {num_tries} tries.\")\n",
    "        # Add the score to the leaderboard\n",
    "        leaderboard.append({\"target\": target, \"tries\": num_tries})\n",
    "    else:\n",
    "        print(f\"Target number {target} not found after {num_tries} tries. Better luck next time!\")\n",
    "\n",
    "if __name__ == \"__main__\":\n",
    "    play_game()\n",
    "\n",
    "    # Ask the user if they would like to play again\n",
    "    while True:\n",
    "        print(f\"Would you like to play again?\")\n",
    "        play_again = input(\"Do you want to play again? (yes/no): \")\n",
    "        print(f\"You have answered {play_again}.\")\n",
    "        if play_again.lower() != 'yes':\n",
    "            break\n",
    "        play_game()\n",
    "\n",
    "    # Display the leaderboard\n",
    "    print(\"\\nLeaderboard:\")\n",
    "    leaderboard.sort(key=lambda x: x[\"tries\"])  # Sort by number of tries\n",
    "    for i, entry in enumerate(leaderboard, start=1):\n",
    "        print(f\"{i}. Target: {entry['target']}, Tries: {entry['tries']}\")"
   ]
  }
 ],
 "metadata": {
  "kernelspec": {
   "display_name": "Python 3 (ipykernel)",
   "language": "python",
   "name": "python3"
  },
  "language_info": {
   "codemirror_mode": {
    "name": "ipython",
    "version": 3
   },
   "file_extension": ".py",
   "mimetype": "text/x-python",
   "name": "python",
   "nbconvert_exporter": "python",
   "pygments_lexer": "ipython3",
   "version": "3.10.12"
  }
 },
 "nbformat": 4,
 "nbformat_minor": 5
}
