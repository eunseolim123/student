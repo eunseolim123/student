{
 "cells": [
  {
   "cell_type": "markdown",
   "metadata": {},
   "source": [
    "---\n",
    "layout: default\n",
    "title: 1.4 Correcting errors\n",
    "description: Practice with identifying and correcting code blocks\n",
    "type: ccc\n",
    "author: Safin Singh and Rohan Juneja\n",
    "permalink: /basics/js-debug\n",
    "hide: True\n",
    "comments: true\n",
    "---"
   ]
  },
  {
   "cell_type": "markdown",
   "metadata": {},
   "source": [
    "{% include nav_basics.html %}"
   ]
  },
  {
   "cell_type": "markdown",
   "metadata": {},
   "source": [
    "[College Board Big Idea 1](https://apclassroom.collegeboard.org/103/home?unit=1)\n",
    "\n",
    "## Identifying and Correcting Errors (Unit 1.4)\n",
    "\n",
    "> Become familiar with types of errors and strategies for fixing them\n",
    "\n",
    "- Review CollegeBoard videos and take notes on blog\n",
    "- Complete assigned MCQ questions if applicable"
   ]
  },
  {
   "cell_type": "markdown",
   "metadata": {},
   "source": [
    "# Code Segments\n",
    "\n",
    "Practice fixing the following code segments!"
   ]
  },
  {
   "cell_type": "markdown",
   "metadata": {},
   "source": [
    "## Segment 1: Alphabet List\n",
    "\n",
    "Intended behavior: create a list of characters from the string contained in the variable `alphabet`\n",
    "\n",
    "### Code:"
   ]
  },
  {
   "cell_type": "code",
   "execution_count": 6,
   "metadata": {
    "vscode": {
     "languageId": "javascript"
    }
   },
   "outputs": [
    {
     "data": {
      "application/javascript": "\nvar alphabet = \"abcdefghijklmnopqrstuvwxyz\";\nvar alphabetList = [];\n\nfor (var i = 0; i < alphabet.length; i++) {\n  alphabetList.push(alphabet[i]);\n}\n\nconsole.log(alphabetList);\n",
      "text/plain": [
       "<IPython.core.display.Javascript object>"
      ]
     },
     "metadata": {},
     "output_type": "display_data"
    }
   ],
   "source": [
    "%%js\n",
    "\n",
    "var alphabet = \"abcdefghijklmnopqrstuvwxyz\";\n",
    "var alphabetList = [];\n",
    "\n",
    "for (var i = 0; i < alphabet.length; i++) {\n",
    "  alphabetList.push(alphabet[i]);\n",
    "}\n",
    "\n",
    "console.log(alphabetList);"
   ]
  },
  {
   "cell_type": "markdown",
   "metadata": {},
   "source": [
    "### What I Changed\n",
    "\n",
    "I changed...\n",
    "- In the 'for' loop, it was iterating from 0 to 9 because of (var i = 0; i < 10; i++) instead of iterating through the characters in the 'alphabet' string\n",
    "  - I changed the loop to iterate through the characters in the 'alphabet' string by using 'alphabet.length' as the loop condition\n",
    "  - In each iteration of the loop, 'alphabet[i]' is used to access the character at the current index 'i' in the 'alphabet' string, and that character is pushed into the 'alphabetList' array."
   ]
  },
  {
   "cell_type": "markdown",
   "metadata": {},
   "source": [
    "## Segment 2: Numbered Alphabet\n",
    "\n",
    "Intended behavior: print the number of a given alphabet letter within the alphabet. For example:\n",
    "```\n",
    "\"_\" is letter number _ in the alphabet\n",
    "```\n",
    "\n",
    "Where the underscores (_) are replaced with the letter and the position of that letter within the alphabet (e.g. a=1, b=2, etc.)\n",
    "\n",
    "### Code:"
   ]
  },
  {
   "cell_type": "code",
   "execution_count": 2,
   "metadata": {
    "vscode": {
     "languageId": "javascript"
    }
   },
   "outputs": [
    {
     "data": {
      "application/javascript": "\n// Copy your previous code to built alphabetList here\n\nvar alphabet = \"abcdefghijklmnopqrstuvwxyz\";\nvar alphabetList = [];\n\nfor (var i = 0; i < alphabet.length; i++) {\n  alphabetList.push(alphabet[i]);\n}\n\nlet letterNumber = 4;\n\nfor (var i = 0; i < alphabetList.length; i++) {\n\tif (i === letterNumber) {\n\t\tconsole.log(alphabet[i] + \" is letter number \" + (i + 1) + \" in the alphabet\");\n\t}\n}\n",
      "text/plain": [
       "<IPython.core.display.Javascript object>"
      ]
     },
     "metadata": {},
     "output_type": "display_data"
    }
   ],
   "source": [
    "%%js\n",
    "\n",
    "// Copy your previous code to built alphabetList here\n",
    "\n",
    "var alphabet = \"abcdefghijklmnopqrstuvwxyz\";\n",
    "var alphabetList = [];\n",
    "\n",
    "for (var i = 0; i < alphabet.length; i++) {\n",
    "  alphabetList.push(alphabet[i]);\n",
    "}\n",
    "\n",
    "let letterNumber = 4;\n",
    "\n",
    "for (var i = 0; i < alphabetList.length; i++) {\n",
    "\tif (i === letterNumber) {\n",
    "\t\tconsole.log(alphabet[i] + \" is letter number \" + (i + 1) + \" in the alphabet\");\n",
    "\t}\n",
    "}"
   ]
  },
  {
   "cell_type": "markdown",
   "metadata": {},
   "source": [
    "### What I Changed\n",
    "\n",
    "I changed...\n",
    "\n",
    "- I removed the unecessary 'for' loop and directly accessed the alphabet character at the specified index ('letterNumber') in the 'alphabetList' array.\n",
    "- I added a check to ensure that 'letterNumber' is within a valid range (0 to 'alphabetList.length - 1') to avoid potential errors."
   ]
  },
  {
   "cell_type": "markdown",
   "metadata": {},
   "source": [
    "## Segment 3: Odd Numbers\n",
    "\n",
    "Intended behavior: print a list of all the odd numbers below 10\n",
    "\n",
    "### Code:"
   ]
  },
  {
   "cell_type": "code",
   "execution_count": 7,
   "metadata": {
    "vscode": {
     "languageId": "javascript"
    }
   },
   "outputs": [
    {
     "data": {
      "application/javascript": "\nlet odds = [];\nlet i = 1; // Start with 1 to include the first odd number\n\nwhile (i < 10) {\n  odds.push(i);\n  i += 2; // Increment by 2 to get the next odd number\n}\n\nconsole.log(odds);\n",
      "text/plain": [
       "<IPython.core.display.Javascript object>"
      ]
     },
     "metadata": {},
     "output_type": "display_data"
    }
   ],
   "source": [
    "%%js\n",
    "\n",
    "let odds = [];\n",
    "let i = 1; // Start with 1 to include the first odd number\n",
    "\n",
    "while (i < 10) {\n",
    "  odds.push(i);\n",
    "  i += 2; // Increment by 2 to get the next odd number\n",
    "}\n",
    "\n",
    "console.log(odds);"
   ]
  },
  {
   "cell_type": "markdown",
   "metadata": {},
   "source": [
    "### What I Changed\n",
    "\n",
    "I changed...\n",
    "\n",
    "- Changed the variable name to odds to represent the list of odd numbers.\n",
    "- Initialized i to 1 to start with the first odd number (1).\n",
    "- Modified the loop condition to continue until i is less than 10 (to exclude 10).\n",
    "- Incremented i by 2 in each iteration to ensure we only odd numbers are added to the odds array."
   ]
  },
  {
   "cell_type": "markdown",
   "metadata": {},
   "source": [
    "# BELOW NOT EDITED"
   ]
  },
  {
   "cell_type": "markdown",
   "metadata": {},
   "source": [
    "The intended outcome is printing a number between 1 and 100 once, if it is a multiple of 2 or 5 \n",
    "- What values are outputted incorrectly. Why?\n",
    "- Make changes to get the intended outcome."
   ]
  },
  {
   "cell_type": "code",
   "execution_count": 4,
   "metadata": {
    "vscode": {
     "languageId": "javascript"
    }
   },
   "outputs": [
    {
     "data": {
      "application/javascript": "\nvar numbers = [];\nvar newNumbers = [];\n\nfor (var i = 0; i < 100; i++) {\n    numbers.push(i);\n}\n\nfor (var i = 0; i < numbers.length; i++) {\n    if (numbers[i] % 5 === 0 || numbers[i] % 2 === 0) {\n        newNumbers.push(numbers[i]);\n    }\n}\n\nconsole.log(newNumbers);\n",
      "text/plain": [
       "<IPython.core.display.Javascript object>"
      ]
     },
     "metadata": {},
     "output_type": "display_data"
    }
   ],
   "source": [
    "%%js\n",
    "\n",
    "var numbers = [];\n",
    "var newNumbers = [];\n",
    "\n",
    "for (var i = 0; i < 100; i++) {\n",
    "    numbers.push(i);\n",
    "}\n",
    "\n",
    "for (var i = 0; i < numbers.length; i++) {\n",
    "    if (numbers[i] % 5 === 0 || numbers[i] % 2 === 0) {\n",
    "        newNumbers.push(numbers[i]);\n",
    "    }\n",
    "}\n",
    "\n",
    "console.log(newNumbers);"
   ]
  },
  {
   "cell_type": "markdown",
   "metadata": {},
   "source": [
    "### What I Changed\n",
    "\n",
    "I changed...\n",
    "\n",
    "- Used a 'for' loop with an index 'for(var i = 0; i < numbers.length; i++)\n",
    "- Original code checked divisibility by 2 and 5 in separate 'if' conditions, adding numbers divisible by 2 or 5 twice. I combined these conditions with logical OR to add numbers divisible by 2 or 5 only once."
   ]
  },
  {
   "cell_type": "markdown",
   "metadata": {},
   "source": [
    "# Challenge\n",
    "\n",
    "This code segment is at a very early stage of implementation.\n",
    "- What are some ways to (user) error proof this code?\n",
    "- The code should be able to calculate the cost of the meal of the user\n",
    "\n",
    "Hint:\n",
    "- write a “single” test describing an expectation of the program of the program\n",
    "- test - input burger, expect output of burger price\n",
    "- run the test, which should fail because the program lacks that feature\n",
    "- write “just enough” code, the simplest possible, to make the test pass\n",
    "\n",
    "Then repeat this process until you get program working like you want it to work."
   ]
  },
  {
   "cell_type": "code",
   "execution_count": 8,
   "metadata": {
    "vscode": {
     "languageId": "javascript"
    }
   },
   "outputs": [
    {
     "data": {
      "application/javascript": "\nvar menu = {\n    \"burger\": 3.99,\n    \"fries\": 1.99,\n    \"drink\": 0.99\n};\n\nvar total = 0;\n\nfunction displayMenu() {\n    console.log(\"Menu\");\n    for (var item in menu) {\n        console.log(item + \"  $\" + menu[item].toFixed(2));\n    }\n}\n\nfunction calculateTotal(selectedItems) {\n    var total = 0;\n    for (var i = 0; i < selectedItems.length; i++) {\n        var item = selectedItems[i];\n        total += menu[item] || 0; \n    }\n    return total;\n}\n\nfunction addItem(item) {\n    if (menu[item] !== undefined) {\n        console.log(\"Added \" + item + \" to the order.\");\n        return true;\n    } else {\n        console.log(\"Invalid item: \" + item);\n        return false;\n    }\n}\n\ndisplayMenu();\n\nvar selectedItems = [\"burger\", \"fries\", \"drink\"];\n\nfor (var i = 0; i < selectedItems.length; i++) {\n    addItem(selectedItems[i]);\n}\n\ntotal = calculateTotal(selectedItems);\n\nconsole.log(\"Total cost: $\" + total.toFixed(2));\n",
      "text/plain": [
       "<IPython.core.display.Javascript object>"
      ]
     },
     "metadata": {},
     "output_type": "display_data"
    }
   ],
   "source": [
    "%%js\n",
    "\n",
    "var menu = {\n",
    "    \"burger\": 3.99,\n",
    "    \"fries\": 1.99,\n",
    "    \"drink\": 0.99\n",
    "};\n",
    "\n",
    "var total = 0;\n",
    "\n",
    "function displayMenu() {\n",
    "    console.log(\"Menu\");\n",
    "    for (var item in menu) {\n",
    "        console.log(item + \"  $\" + menu[item].toFixed(2));\n",
    "    }\n",
    "}\n",
    "\n",
    "function calculateTotal(selectedItems) {\n",
    "    var total = 0;\n",
    "    for (var i = 0; i < selectedItems.length; i++) {\n",
    "        var item = selectedItems[i];\n",
    "        total += menu[item] || 0; \n",
    "    }\n",
    "    return total;\n",
    "}\n",
    "\n",
    "function addItem(item) {\n",
    "    if (menu[item] !== undefined) {\n",
    "        console.log(\"Added \" + item + \" to the order.\");\n",
    "        return true;\n",
    "    } else {\n",
    "        console.log(\"Invalid item: \" + item);\n",
    "        return false;\n",
    "    }\n",
    "}\n",
    "\n",
    "displayMenu();\n",
    "\n",
    "var selectedItems = [\"burger\", \"fries\", \"drink\"];\n",
    "\n",
    "for (var i = 0; i < selectedItems.length; i++) {\n",
    "    addItem(selectedItems[i]);\n",
    "}\n",
    "\n",
    "total = calculateTotal(selectedItems);\n",
    "\n",
    "console.log(\"Total cost: $\" + total.toFixed(2));"
   ]
  },
  {
   "cell_type": "markdown",
   "metadata": {},
   "source": [
    "### What I Changed\n",
    "\n",
    "I changed...\n",
    "\n",
    "- Separate functions created to display menu, calculate meal total, and add an item to the order\n",
    "- Altered 'addItem' function to check whether the selected item is in the menu or not before adding it. If it is not in the menu, it logs an error message.\n",
    "- Optional chaining to calculate total, ensuring any selected item that is not on the menu will have a cost of $0"
   ]
  },
  {
   "cell_type": "markdown",
   "metadata": {},
   "source": [
    "## Hacks\n",
    "- Fix the errors in the first three segments in this notebook and say what you changed in the code cell under \"What I Changed\" (Challenge is optional)"
   ]
  },
  {
   "cell_type": "markdown",
   "metadata": {},
   "source": [
    "<script src=\"https://utteranc.es/client.js\"\n",
    "        repo=\"eunseolim123/student\"\n",
    "        issue-term=\"title\"\n",
    "        label=\"blogpost-comment\"\n",
    "        theme=\"github-light\"\n",
    "        crossorigin=\"anonymous\"\n",
    "        async>\n",
    "</script>"
   ]
  }
 ],
 "metadata": {
  "kernelspec": {
   "display_name": "Python 3.10.6 64-bit",
   "language": "python",
   "name": "python3"
  },
  "language_info": {
   "codemirror_mode": {
    "name": "ipython",
    "version": 3
   },
   "file_extension": ".py",
   "mimetype": "text/x-python",
   "name": "python",
   "nbconvert_exporter": "python",
   "pygments_lexer": "ipython3",
   "version": "3.10.12"
  },
  "orig_nbformat": 4,
  "vscode": {
   "interpreter": {
    "hash": "aee8b7b246df8f9039afb4144a1f6fd8d2ca17a180786b69acc140d282b71a49"
   }
  }
 },
 "nbformat": 4,
 "nbformat_minor": 2
}
