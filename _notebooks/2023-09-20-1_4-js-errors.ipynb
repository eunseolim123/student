{
 "cells": [
  {
   "cell_type": "markdown",
   "metadata": {},
   "source": [
    "---\n",
    "layout: default\n",
    "title: 1.4 Correcting errors\n",
    "description: Practice with identifying and correcting code blocks\n",
    "type: ccc\n",
    "author: Safin Singh and Rohan Juneja\n",
    "permalink: /basics/js-debug\n",
    "hide: True\n",
    "---"
   ]
  },
  {
   "cell_type": "markdown",
   "metadata": {},
   "source": [
    "{% include nav_basics.html %}"
   ]
  },
  {
   "cell_type": "markdown",
   "metadata": {},
   "source": [
    "[College Board Big Idea 1](https://apclassroom.collegeboard.org/103/home?unit=1)\n",
    "\n",
    "## Identifying and Correcting Errors (Unit 1.4)\n",
    "\n",
    "> Become familiar with types of errors and strategies for fixing them\n",
    "\n",
    "- Review CollegeBoard videos and take notes on blog\n",
    "- Complete assigned MCQ questions if applicable"
   ]
  },
  {
   "cell_type": "markdown",
   "metadata": {},
   "source": [
    "# Code Segments\n",
    "\n",
    "Practice fixing the following code segments!"
   ]
  },
  {
   "cell_type": "markdown",
   "metadata": {},
   "source": [
    "## Segment 1: Alphabet List\n",
    "\n",
    "Intended behavior: create a list of characters from the string contained in the variable `alphabet`\n",
    "\n",
    "### Code:"
   ]
  },
  {
   "cell_type": "code",
   "execution_count": null,
   "metadata": {
    "vscode": {
     "languageId": "javascript"
    }
   },
   "outputs": [],
   "source": [
    "%%js\n",
    "\n",
    "var alphabet = \"abcdefghijklmnopqrstuvwxyz\";\n",
    "var alphabetList = [];\n",
    "\n",
    "for (var i = 0; i < alphabet.length; i++) {\n",
    "  alphabetList.push(alphabet[i]);\n",
    "}\n",
    "\n",
    "console.log(alphabetList);"
   ]
  },
  {
   "cell_type": "markdown",
   "metadata": {},
   "source": [
    "### What I Changed\n",
    "\n",
    "I changed...\n",
    "- In the 'for' loop, it was iterating from 0 to 9 because of (var i = 0; i < 10; i++) instead of iterating through the characters in the 'alphabet' string\n",
    "  - I changed the loop to iterate through the characters in the 'alphabet' string by using 'alphabet.length' as the loop condition\n",
    "  - In each iteration of the loop, 'alphabet[i]' is used to access the character at the current index 'i' in the 'alphabet' string, and that character is pushed into the 'alphabetList' array."
   ]
  },
  {
   "cell_type": "markdown",
   "metadata": {},
   "source": [
    "## Segment 2: Numbered Alphabet\n",
    "\n",
    "Intended behavior: print the number of a given alphabet letter within the alphabet. For example:\n",
    "```\n",
    "\"_\" is letter number _ in the alphabet\n",
    "```\n",
    "\n",
    "Where the underscores (_) are replaced with the letter and the position of that letter within the alphabet (e.g. a=1, b=2, etc.)\n",
    "\n",
    "### Code:"
   ]
  },
  {
   "cell_type": "code",
   "execution_count": null,
   "metadata": {
    "vscode": {
     "languageId": "javascript"
    }
   },
   "outputs": [],
   "source": [
    "%%js\n",
    "\n",
    "// Copy your previous code to built alphabetList here\n",
    "\n",
    "var alphabet = \"abcdefghijklmnopqrstuvwxyz\";\n",
    "var alphabetList = [];\n",
    "\n",
    "for (var i = 0; i < alphabet.length; i++) {\n",
    "  alphabetList.push(alphabet[i]);\n",
    "}\n",
    "\n",
    "let letterNumber = 5;\n",
    "\n",
    "for (var i = 0; i < alphabetList.length; i++) {\n",
    "\tif (i === letterNumber) {\n",
    "\t\tconsole.log(alphabet[i] + \" is letter number \" + (i + 1) + \" in the alphabet\");\n",
    "\t}\n",
    "}\n",
    "\n",
    "// Should output:\n",
    "// \"e\" is letter number 5 in the alphabet"
   ]
  },
  {
   "cell_type": "markdown",
   "metadata": {},
   "source": [
    "### What I Changed\n",
    "\n",
    "I changed...\n",
    "\n",
    "- I removed the unecessary 'for' loop and directly accessed the alphabet character at the specified index ('letterNumber') in the 'alphabetList' array.\n",
    "- I added a check to ensure that 'letterNumber' is within a valid range (0 to 'alphabetList.length - 1') to avoid potential errors."
   ]
  },
  {
   "cell_type": "markdown",
   "metadata": {},
   "source": [
    "## Segment 3: Odd Numbers\n",
    "\n",
    "Intended behavior: print a list of all the odd numbers below 10\n",
    "\n",
    "### Code:"
   ]
  },
  {
   "cell_type": "code",
   "execution_count": null,
   "metadata": {
    "vscode": {
     "languageId": "javascript"
    }
   },
   "outputs": [],
   "source": [
    "%%js\n",
    "\n",
    "let odds = [];\n",
    "let i = 1; // Start with 1 to include the first odd number\n",
    "\n",
    "while (i < 10) {\n",
    "  odds.push(i);\n",
    "  i += 2; // Increment by 2 to get the next odd number\n",
    "}\n",
    "\n",
    "console.log(odds);"
   ]
  },
  {
   "cell_type": "markdown",
   "metadata": {},
   "source": [
    "### What I Changed\n",
    "\n",
    "I changed...\n",
    "\n",
    "- Changed the variable name to odds to represent the list of odd numbers.\n",
    "- Initialized i to 1 to start with the first odd number (1).\n",
    "- Modified the loop condition to continue until i is less than 10 (to exclude 10).\n",
    "- Incremented i by 2 in each iteration to ensure we only odd numbers are added to the odds array."
   ]
  },
  {
   "cell_type": "markdown",
   "metadata": {},
   "source": [
    "# BELOW NOT EDITED"
   ]
  },
  {
   "cell_type": "markdown",
   "metadata": {},
   "source": [
    "The intended outcome is printing a number between 1 and 100 once, if it is a multiple of 2 or 5 \n",
    "- What values are outputted incorrectly. Why?\n",
    "- Make changes to get the intended outcome."
   ]
  },
  {
   "cell_type": "code",
   "execution_count": null,
   "metadata": {
    "vscode": {
     "languageId": "javascript"
    }
   },
   "outputs": [],
   "source": [
    "%%js\n",
    "\n",
    "var numbers = []\n",
    "var newNumbers = []\n",
    "var i = 0\n",
    "\n",
    "while (i < 100) {\n",
    "    numbers.push(i)\n",
    "    i += 1\n",
    "}\n",
    "for (var i of numbers) {\n",
    "    if (numbers[i] % 5 === 0)\n",
    "        newNumbers.push(numbers[i])\n",
    "    if (numbers[i] % 2 === 0)\n",
    "        newNumbers.push(numbers[i])\n",
    "}\n",
    "console.log(newNumbers) \n",
    "\n"
   ]
  },
  {
   "cell_type": "markdown",
   "metadata": {},
   "source": [
    "# Challenge\n",
    "\n",
    "This code segment is at a very early stage of implementation.\n",
    "- What are some ways to (user) error proof this code?\n",
    "- The code should be able to calculate the cost of the meal of the user\n",
    "\n",
    "Hint:\n",
    "- write a “single” test describing an expectation of the program of the program\n",
    "- test - input burger, expect output of burger price\n",
    "- run the test, which should fail because the program lacks that feature\n",
    "- write “just enough” code, the simplest possible, to make the test pass\n",
    "\n",
    "Then repeat this process until you get program working like you want it to work."
   ]
  },
  {
   "cell_type": "code",
   "execution_count": null,
   "metadata": {
    "vscode": {
     "languageId": "javascript"
    }
   },
   "outputs": [],
   "source": [
    "%%js\n",
    "\n",
    "<html lang=\"en\">\n",
    "<head>\n",
    "    <meta charset=\"UTF-8\">\n",
    "    <meta name=\"viewport\" content=\"width=device-width, initial-scale=1.0\">\n",
    "    <title>Order a Meal</title>\n",
    "</head>\n",
    "<body>\n",
    "    <h1>Meal Order</h1>\n",
    "    <p>Enter the items you want to order and click \"Add Item.\" When you are done, click \"Calculate Total.\"</p>\n",
    "\n",
    "    <div>\n",
    "        <input type=\"text\" id=\"itemInput\" placeholder=\"Enter an item\">\n",
    "        <button onclick=\"addItem()\">Add Item</button>\n",
    "    </div>\n",
    "\n",
    "    <ul id=\"orderList\"></ul>\n",
    "    <p>Total: $<span id=\"total\">0.00</span></p>\n",
    "\n",
    "    <script>\n",
    "        var menu = {\n",
    "            \"burger\": 3.99,\n",
    "            \"fries\": 1.99,\n",
    "            \"drink\": 0.99\n",
    "        };\n",
    "        var selectedItems = [];\n",
    "\n",
    "        function addItem() {\n",
    "            var itemInput = document.getElementById(\"itemInput\");\n",
    "            var item = itemInput.value.toLowerCase();\n",
    "\n",
    "            if (menu[item]) {\n",
    "                selectedItems.push(item);\n",
    "                itemInput.value = \"\";\n",
    "                displayOrder();\n",
    "            } else {\n",
    "                alert(\"Invalid item: \" + item);\n",
    "            }\n",
    "        }\n",
    "\n",
    "        function displayOrder() {\n",
    "            var orderList = document.getElementById(\"orderList\");\n",
    "            orderList.innerHTML = \"\";\n",
    "            for (var i = 0; i < selectedItems.length; i++) {\n",
    "                var item = selectedItems[i];\n",
    "                var listItem = document.createElement(\"li\");\n",
    "                listItem.textContent = item;\n",
    "                orderList.appendChild(listItem);\n",
    "            }\n",
    "            calculateTotal();\n",
    "        }\n",
    "\n",
    "        function calculateTotal() {\n",
    "            var total = 0;\n",
    "            for (var i = 0; i < selectedItems.length; i++) {\n",
    "                var item = selectedItems[i];\n",
    "                total += menu[item];\n",
    "            }\n",
    "            document.getElementById(\"total\").textContent = total.toFixed(2);\n",
    "        }\n",
    "    </script>\n",
    "</body>\n",
    "</html>"
   ]
  },
  {
   "cell_type": "markdown",
   "metadata": {},
   "source": [
    "### What I Changed\n",
    "\n",
    "I changed...\n",
    "\n",
    "- 'displayMenu()' function was added to display the menu and prices to the user. It uses 'console.log()' to loop through the 'menu' object and print each item's name and price\n",
    "- 'calculateTotal(selectedItems)' function was added to calculate the total of the user's meal\n",
    "- 'while' loop lets user keep adding items to their order until they type \"done\" and finish their order"
   ]
  },
  {
   "cell_type": "markdown",
   "metadata": {},
   "source": [
    "## Hacks\n",
    "- Fix the errors in the first three segments in this notebook and say what you changed in the code cell under \"What I Changed\" (Challenge is optional)"
   ]
  }
 ],
 "metadata": {
  "kernelspec": {
   "display_name": "Python 3.10.6 64-bit",
   "language": "python",
   "name": "python3"
  },
  "language_info": {
   "codemirror_mode": {
    "name": "ipython",
    "version": 3
   },
   "file_extension": ".py",
   "mimetype": "text/x-python",
   "name": "python",
   "nbconvert_exporter": "python",
   "pygments_lexer": "ipython3",
   "version": "3.10.12"
  },
  "orig_nbformat": 4,
  "vscode": {
   "interpreter": {
    "hash": "aee8b7b246df8f9039afb4144a1f6fd8d2ca17a180786b69acc140d282b71a49"
   }
  }
 },
 "nbformat": 4,
 "nbformat_minor": 2
}
